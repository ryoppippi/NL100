{
 "cells": [
  {
   "cell_type": "code",
   "execution_count": null,
   "metadata": {
    "collapsed": false
   },
   "outputs": [],
   "source": [
    "text0 = 'stressed'\n",
    "print(text0[::-1])"
   ]
  },
  {
   "cell_type": "code",
   "execution_count": 20,
   "metadata": {
    "collapsed": false
   },
   "outputs": [
    {
     "name": "stdout",
     "output_type": "stream",
     "text": [
      "パトカー\n"
     ]
    }
   ],
   "source": [
    "text1 = 'パタトクカシーー'\n",
    "print(text1[::2])"
   ]
  },
  {
   "cell_type": "code",
   "execution_count": 3,
   "metadata": {
    "collapsed": false
   },
   "outputs": [
    {
     "name": "stdout",
     "output_type": "stream",
     "text": [
      "パタトクカシーー\n"
     ]
    }
   ],
   "source": [
    "text2_1 = 'パトカー'\n",
    "text2_2 = 'タクシー'\n",
    "ans2 =''\n",
    "for (a, b) in zip(text2_1, text2_2):\n",
    "    ans2 += a\n",
    "    ans2 += b\n",
    "print(ans2)"
   ]
  },
  {
   "cell_type": "code",
   "execution_count": 4,
   "metadata": {
    "collapsed": false
   },
   "outputs": [
    {
     "name": "stdout",
     "output_type": "stream",
     "text": [
      "[3, 1, 4, 1, 5, 9, 2, 6, 5, 3, 5, 8, 9, 7, 9]\n"
     ]
    }
   ],
   "source": [
    "text3 = \"Now I need a drink, alcoholic of course, after the heavy lectures involving quantum mechanics.\"\n",
    "text3 = text3.replace('.', \"\")\n",
    "text3 = text3.replace(',', \"\")\n",
    "text3 = text3.split()\n",
    "count = []\n",
    "for str in text3:\n",
    "    count.append(len(str))\n",
    "print(count)"
   ]
  },
  {
   "cell_type": "code",
   "execution_count": 5,
   "metadata": {
    "collapsed": false
   },
   "outputs": [
    {
     "name": "stdout",
     "output_type": "stream",
     "text": [
      "{'H': 1, 'He': 2, 'Li': 3, 'Be': 4, 'B': 5, 'C': 6, 'N': 7, 'O': 8, 'F': 9, 'Ne': 10, 'Na': 11, 'Mi': 12, 'Al': 13, 'Si': 14, 'P': 15, 'S': 16, 'Cl': 17, 'Ar': 18, 'K': 19, 'Ca': 20}\n"
     ]
    }
   ],
   "source": [
    "text4 = \"Hi He Lied Because Boron Could Not Oxidize Fluorine. New Nations Might Also Sign Peace Security Clause. Arthur King Can.\"\n",
    "text4 = text4.split()\n",
    "index1 = [1, 5, 6, 7, 8, 9, 15, 16, 19]\n",
    "dict = {}\n",
    "for element in text4:\n",
    "    if text4.index(element) + 1 in index1:\n",
    "        dict[element[:1]] = text4.index(element) + 1\n",
    "    else:\n",
    "        dict[element[:2]] = text4.index(element) + 1\n",
    "print(dict)"
   ]
  },
  {
   "cell_type": "code",
   "execution_count": 6,
   "metadata": {
    "collapsed": false,
    "scrolled": false
   },
   "outputs": [
    {
     "name": "stdout",
     "output_type": "stream",
     "text": [
      "['I ', ' a', 'am', 'm ', ' a', 'an', 'n ', ' N', 'NL', 'LP', 'Pe', 'er']\n",
      "[['I', 'am'], ['am', 'an'], ['an', 'NLPer']]\n"
     ]
    }
   ],
   "source": [
    "st = \"I am an NLPer\"\n",
    "def ngram(input, n):\n",
    "    ret = []\n",
    "    for i in range(len(input)-n+1):\n",
    "        ret.append(input[i:i+n])\n",
    "    return ret\n",
    "print(ngram(st,2))\n",
    "st = st.split()\n",
    "print(ngram(st,2))"
   ]
  },
  {
   "cell_type": "code",
   "execution_count": 7,
   "metadata": {
    "collapsed": false
   },
   "outputs": [
    {
     "name": "stdout",
     "output_type": "stream",
     "text": [
      "{'ra', 'se', 'ag', 'gr', 'ad', 'ap', 'di', 'is', 'ar', 'pa', 'ph'}\n",
      "{'pa', 'ar', 'ra', 'ap'}\n",
      "{'di', 'se', 'ad', 'is'}\n",
      "True\n",
      "False\n"
     ]
    }
   ],
   "source": [
    "text6_1 = \"paraparaparadise\"\n",
    "text6_2 = \"paragraph\"\n",
    "X = set(ngram(text6_1,2))\n",
    "Y = set(ngram(text6_2,2))\n",
    "\n",
    "print(X|Y)\n",
    "print(X&Y)\n",
    "print(X-Y)\n",
    "\n",
    "print(\"se\" in X)\n",
    "print(\"se\" in Y)"
   ]
  },
  {
   "cell_type": "code",
   "execution_count": 8,
   "metadata": {
    "code_folding": [],
    "collapsed": false
   },
   "outputs": [
    {
     "name": "stdout",
     "output_type": "stream",
     "text": [
      "12時の'気温'は22.4\n"
     ]
    }
   ],
   "source": [
    "x = 12\n",
    "y = u'気温'\n",
    "z = 22.4\n",
    "\n",
    "def function(x, y, z):\n",
    "    return repr(x) + '時の' + repr(y) + u'は' + repr(z)\n",
    "\n",
    "print(function(x, y, z))"
   ]
  },
  {
   "cell_type": "code",
   "execution_count": 9,
   "metadata": {
    "collapsed": false
   },
   "outputs": [
    {
     "name": "stdout",
     "output_type": "stream",
     "text": [
      "Agyzhs rh z hrnkov hfyhgrgfgrlm xrksvi uli gsv Hvyivd zokszyvg.\n",
      "Atbash is a simple substitution cipher for the Hebrew alphabet.\n"
     ]
    }
   ],
   "source": [
    "str = \"Atbash is a simple substitution cipher for the Hebrew alphabet.\"\n",
    "\n",
    "def cipher(input):\n",
    "    ret = \"\"\n",
    "    for char in input:\n",
    "        ret += chr(219-ord(char)) if char.islower() else char\n",
    "    return ret\n",
    "\n",
    "str = cipher(str)\n",
    "print(str)\n",
    "str = cipher(str)\n",
    "print(str)\n"
   ]
  },
  {
   "cell_type": "code",
   "execution_count": 10,
   "metadata": {
    "collapsed": false
   },
   "outputs": [
    {
     "name": "stdout",
     "output_type": "stream",
     "text": [
      "I clu'ondt beilvee that I cloud acullaty urtnandesd what I was rndeiag : the paneohmnel poewr of the huamn mind .\n"
     ]
    }
   ],
   "source": [
    "import random\n",
    "\n",
    "\n",
    "def word_typoglycemia(word):\n",
    "    if len(word) <= 4:\n",
    "        return word\n",
    "\n",
    "    mid_list = list(word[1:-1])\n",
    "    while mid_list == list(word[1:-1]):\n",
    "        random.shuffle(mid_list)\n",
    "    return word[0] + \"\".join(mid_list) + word[-1]\n",
    "\n",
    "\n",
    "def str_typoglycemia(str):\n",
    "    shuffled_list = []\n",
    "    for word in str.split():\n",
    "        shuffled_list.append(word_typoglycemia(word))\n",
    "    return \" \".join(shuffled_list)\n",
    "\n",
    "\n",
    "str = \"I couldn't believe that I could actually understand \\\n",
    " what I was reading : the phenomenal power of the human mind .\"\n",
    "\n",
    "print(str_typoglycemia(str))\n"
   ]
  }
 ],
 "metadata": {
  "_draft": {
   "nbviewer_url": "https://gist.github.com/5c60324b7f26cbf516f6c2c6fcac033e"
  },
  "gist": {
   "data": {
    "description": "自然言語処理100本ノック00-09 http://www.cl.ecei.tohoku.ac.jp/nlp100/",
    "public": true
   },
   "id": "5c60324b7f26cbf516f6c2c6fcac033e"
  },
  "kernelspec": {
   "display_name": "Python 3",
   "language": "python",
   "name": "python3"
  },
  "language_info": {
   "codemirror_mode": {
    "name": "ipython",
    "version": 3
   },
   "file_extension": ".py",
   "mimetype": "text/x-python",
   "name": "python",
   "nbconvert_exporter": "python",
   "pygments_lexer": "ipython3",
   "version": "3.6.0"
  },
  "toc": {
   "colors": {
    "hover_highlight": "#DAA520",
    "running_highlight": "#FF0000",
    "selected_highlight": "#FFD700"
   },
   "moveMenuLeft": true,
   "nav_menu": {
    "height": "12px",
    "width": "252px"
   },
   "navigate_menu": true,
   "number_sections": true,
   "sideBar": true,
   "threshold": 4,
   "toc_cell": false,
   "toc_section_display": "block",
   "toc_window_display": false,
   "widenNotebook": false
  },
  "varInspector": {
   "cols": {
    "lenName": 16,
    "lenType": 16,
    "lenVar": 40
   },
   "kernels_config": {
    "python": {
     "delete_cmd_postfix": "",
     "delete_cmd_prefix": "del ",
     "library": "var_list.py",
     "varRefreshCmd": "print(var_dic_list())"
    },
    "r": {
     "delete_cmd_postfix": ") ",
     "delete_cmd_prefix": "rm(",
     "library": "var_list.r",
     "varRefreshCmd": "cat(var_dic_list()) "
    }
   },
   "oldHeight": 122,
   "position": {
    "height": "144px",
    "left": "auto",
    "right": "20px",
    "top": "120px",
    "width": "350px"
   },
   "types_to_exclude": [
    "module",
    "function",
    "builtin_function_or_method",
    "instance",
    "_Feature"
   ],
   "varInspector_section_display": "block",
   "window_display": true
  }
 },
 "nbformat": 4,
 "nbformat_minor": 2
}
